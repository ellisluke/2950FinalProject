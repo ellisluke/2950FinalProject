{
 "cells": [
  {
   "cell_type": "markdown",
   "id": "5d2a291b-4a3c-47ee-b824-5fe5af383ea4",
   "metadata": {},
   "source": [
    "# Final Project Submission - INFO 2950\n",
    "#### Luke Ellis"
   ]
  },
  {
   "cell_type": "markdown",
   "id": "b8892284-213e-4c1a-a1af-b21810464c2d",
   "metadata": {},
   "source": [
    "### Introduction\n",
    "\n",
    "Music has long been a passion of mine, so my mind instantly focused on the analysis of music when the open-ended nature of this project was presented. Well I certainly do not regret choosing this topic, I do realize that it is much more difficult than initially expected. Like most art forms, Music is an extremely subjective field, and the more quantifiable parts of music present many computational challenges to obtain. For example, to create a large dataset of songs with their tempos (beats per minute) is a difficult task requiring a powerful computer and a lot of time. Or if one wished to classify the genre of 200,000 songs, they would run into issues of classification before they even start thinking of how to handle such a task computationally. Many songs do not simply and obviously fall into one category of music. Different listeners across different regions classify the same piece of music as different styles or genres. \n",
    "\n",
    "So for this project, I decided to not lose time by trying to solve a controversial aspect of music before even starting my analyses. Instead, I decided to use the Billboard Hot 100 Chart, with data over the past 60 or so years, as the centerpiece of my investigations. The Billboard Hot 100 is a weekly publication that lists the 100 most popular songs in the United States for that week based on a variety of factors, and this chart represents a significant part of the current musical culture of the United States. I believe finding new ways to quantify the chart may show correlations with other aspects of American culture and current events. An interesting way to quantify the Hot 100 is through the lyrics used in these songs. Thus, much of my analysis will consider trends in lyrics and American culture."
   ]
  },
  {
   "cell_type": "markdown",
   "id": "6acec08c-a673-4a06-a9f3-927425c4a41b",
   "metadata": {},
   "source": [
    "### Data Description"
   ]
  },
  {
   "cell_type": "code",
   "execution_count": 1,
   "id": "c56a3de6-71f5-4a9a-969a-c3f8c6ca411a",
   "metadata": {
    "jupyter": {
     "source_hidden": true
    },
    "tags": []
   },
   "outputs": [],
   "source": [
    "import pandas as pd\n",
    "import numpy as np\n",
    "import seaborn as sns\n",
    "import matplotlib.pyplot as plt\n",
    "import datetime\n",
    "from statistics import mean\n",
    "from sklearn.linear_model import LinearRegression, LogisticRegression\n",
    "from sklearn.feature_extraction.text import TfidfVectorizer\n",
    "from sklearn.model_selection import train_test_split\n",
    "from sklearn.metrics import classification_report"
   ]
  },
  {
   "cell_type": "code",
   "execution_count": 2,
   "id": "32380fce-6021-4b66-9aea-84c257785ebd",
   "metadata": {
    "tags": []
   },
   "outputs": [
    {
     "data": {
      "text/html": [
       "<div>\n",
       "<style scoped>\n",
       "    .dataframe tbody tr th:only-of-type {\n",
       "        vertical-align: middle;\n",
       "    }\n",
       "\n",
       "    .dataframe tbody tr th {\n",
       "        vertical-align: top;\n",
       "    }\n",
       "\n",
       "    .dataframe thead th {\n",
       "        text-align: right;\n",
       "    }\n",
       "</style>\n",
       "<table border=\"1\" class=\"dataframe\">\n",
       "  <thead>\n",
       "    <tr style=\"text-align: right;\">\n",
       "      <th></th>\n",
       "      <th>Unnamed: 0</th>\n",
       "      <th>WeekID</th>\n",
       "      <th>Week Position</th>\n",
       "      <th>Song</th>\n",
       "      <th>Performer</th>\n",
       "      <th>SongID</th>\n",
       "      <th>Peak Position</th>\n",
       "      <th>Weeks on Chart</th>\n",
       "      <th>lyricLink</th>\n",
       "      <th>lyrics</th>\n",
       "      <th>lyricBool</th>\n",
       "    </tr>\n",
       "  </thead>\n",
       "  <tbody>\n",
       "    <tr>\n",
       "      <th>0</th>\n",
       "      <td>302681</td>\n",
       "      <td>2014-05-10</td>\n",
       "      <td>49</td>\n",
       "      <td>Radioactive</td>\n",
       "      <td>Imagine Dragons</td>\n",
       "      <td>RadioactiveImagine Dragons</td>\n",
       "      <td>3</td>\n",
       "      <td>87</td>\n",
       "      <td>http://www.songlyrics.com/Imagine-Dragons/Radi...</td>\n",
       "      <td>i'm waking up to ash and dust i wipe my brow a...</td>\n",
       "      <td>True</td>\n",
       "    </tr>\n",
       "    <tr>\n",
       "      <th>1</th>\n",
       "      <td>302673</td>\n",
       "      <td>2014-03-22</td>\n",
       "      <td>45</td>\n",
       "      <td>Sail</td>\n",
       "      <td>AWOLNATION</td>\n",
       "      <td>SailAWOLNATION</td>\n",
       "      <td>17</td>\n",
       "      <td>79</td>\n",
       "      <td>http://www.songlyrics.com/AWOLNATION/Sail-lyrics</td>\n",
       "      <td>sail this is how i show my love. i made it in ...</td>\n",
       "      <td>True</td>\n",
       "    </tr>\n",
       "    <tr>\n",
       "      <th>2</th>\n",
       "      <td>278572</td>\n",
       "      <td>2009-10-10</td>\n",
       "      <td>48</td>\n",
       "      <td>I'm Yours</td>\n",
       "      <td>Jason Mraz</td>\n",
       "      <td>I'm YoursJason Mraz</td>\n",
       "      <td>6</td>\n",
       "      <td>76</td>\n",
       "      <td>http://www.songlyrics.com/Jason-Mraz/I'm-Yours...</td>\n",
       "      <td>well you done done me and you bet i felt it i ...</td>\n",
       "      <td>True</td>\n",
       "    </tr>\n",
       "    <tr>\n",
       "      <th>3</th>\n",
       "      <td>278565</td>\n",
       "      <td>1998-10-10</td>\n",
       "      <td>45</td>\n",
       "      <td>How Do I Live</td>\n",
       "      <td>LeAnn Rimes</td>\n",
       "      <td>How Do I LiveLeAnn Rimes</td>\n",
       "      <td>2</td>\n",
       "      <td>69</td>\n",
       "      <td>http://www.songlyrics.com/LeAnn-Rimes/How-Do-I...</td>\n",
       "      <td>how do i get through one night without you if ...</td>\n",
       "      <td>True</td>\n",
       "    </tr>\n",
       "    <tr>\n",
       "      <th>4</th>\n",
       "      <td>302643</td>\n",
       "      <td>2012-07-21</td>\n",
       "      <td>49</td>\n",
       "      <td>Party Rock Anthem</td>\n",
       "      <td>LMFAO Featuring Lauren Bennett &amp; GoonRock</td>\n",
       "      <td>Party Rock AnthemLMFAO Featuring Lauren Bennet...</td>\n",
       "      <td>1</td>\n",
       "      <td>68</td>\n",
       "      <td>http://www.songlyrics.com/LMFAO-Featuring-Laur...</td>\n",
       "      <td>party rock yeah woo let's go party rock is in ...</td>\n",
       "      <td>True</td>\n",
       "    </tr>\n",
       "  </tbody>\n",
       "</table>\n",
       "</div>"
      ],
      "text/plain": [
       "   Unnamed: 0      WeekID  Week Position               Song  \\\n",
       "0      302681  2014-05-10             49        Radioactive   \n",
       "1      302673  2014-03-22             45               Sail   \n",
       "2      278572  2009-10-10             48          I'm Yours   \n",
       "3      278565  1998-10-10             45      How Do I Live   \n",
       "4      302643  2012-07-21             49  Party Rock Anthem   \n",
       "\n",
       "                                   Performer  \\\n",
       "0                            Imagine Dragons   \n",
       "1                                 AWOLNATION   \n",
       "2                                 Jason Mraz   \n",
       "3                                LeAnn Rimes   \n",
       "4  LMFAO Featuring Lauren Bennett & GoonRock   \n",
       "\n",
       "                                              SongID  Peak Position  \\\n",
       "0                         RadioactiveImagine Dragons              3   \n",
       "1                                     SailAWOLNATION             17   \n",
       "2                                I'm YoursJason Mraz              6   \n",
       "3                           How Do I LiveLeAnn Rimes              2   \n",
       "4  Party Rock AnthemLMFAO Featuring Lauren Bennet...              1   \n",
       "\n",
       "   Weeks on Chart                                          lyricLink  \\\n",
       "0              87  http://www.songlyrics.com/Imagine-Dragons/Radi...   \n",
       "1              79   http://www.songlyrics.com/AWOLNATION/Sail-lyrics   \n",
       "2              76  http://www.songlyrics.com/Jason-Mraz/I'm-Yours...   \n",
       "3              69  http://www.songlyrics.com/LeAnn-Rimes/How-Do-I...   \n",
       "4              68  http://www.songlyrics.com/LMFAO-Featuring-Laur...   \n",
       "\n",
       "                                              lyrics  lyricBool  \n",
       "0  i'm waking up to ash and dust i wipe my brow a...       True  \n",
       "1  sail this is how i show my love. i made it in ...       True  \n",
       "2  well you done done me and you bet i felt it i ...       True  \n",
       "3  how do i get through one night without you if ...       True  \n",
       "4  party rock yeah woo let's go party rock is in ...       True  "
      ]
     },
     "execution_count": 2,
     "metadata": {},
     "output_type": "execute_result"
    }
   ],
   "source": [
    "songs = pd.read_csv(\"songsWithLyrics.csv\")\n",
    "songs.head()"
   ]
  },
  {
   "cell_type": "code",
   "execution_count": 3,
   "id": "0361aaf4-139b-4a99-962d-cf0417ff40e0",
   "metadata": {},
   "outputs": [
    {
     "name": "stdout",
     "output_type": "stream",
     "text": [
      "totalCount.json first 5 values: \n",
      "        214146\n",
      "you    211434\n",
      "i      198497\n",
      "the    183777\n",
      "to     119939\n",
      "dtype: object\n",
      "\n",
      "totalCountNoDupes.json first 5 values: \n",
      " the    19360\n",
      "       18659\n",
      "to     17956\n",
      "and    17915\n",
      "i      17557\n",
      "dtype: object\n"
     ]
    }
   ],
   "source": [
    "## Import JSON word count data as a dataframe\n",
    "wordCt = pd.read_json(\"totalCount.json\", typ='series')\n",
    "wordCt.columns=['word', 'count']\n",
    "uniqueCt = pd.read_json(\"totalCountNoDupes.json\", typ='series')\n",
    "uniqueCt.columns=['word', 'count']\n",
    "print(\"totalCount.json first 5 values: \\n\", wordCt.head())\n",
    "print()\n",
    "print(\"totalCountNoDupes.json first 5 values: \\n\", uniqueCt.head())"
   ]
  },
  {
   "cell_type": "markdown",
   "id": "a871908e-8461-472a-9ed8-19905c4dbbfc",
   "metadata": {},
   "source": [
    "#### Composition\n",
    "\n",
    "This data is made up of one main CSV file and two JSON files with counts of word occurences in the collected lyrics.\n",
    "\n",
    "**songsWithLyrics.csv**\n",
    "This is based off another CSV file with all songs on the Billboard Hot 100 since the chart was first published. Billboard releases the list weekly with rankings based off of digital and physical sales of the song, streaming, and radio plays. The data set was clean and complete without significant outliers. The original \"Hot Stuff\" CSV file can be found <a href=\"https://data.world/kcmillersean/billboard-hot-100-1958-2017/workspace/file?filename=Hot+Stuff.csv\">here.</a> The following reflects any changes I've made.\n",
    "- **WeekID**: datetime; the date of the final week the song was on the charts.\n",
    "- **Week Position**: int; the song's current ranking on WeekID's chart.\n",
    "- **Song**: string; title of the song.\n",
    "- **Performer**: string; the main musical artist(s) to whom this work is credited.\n",
    "- **SongID**: string; string concatenation of Song+Performer (no space between)\n",
    "- **Peak Position**: int; the highest position a song reached on the chart prior to or including the week of WeekID.\n",
    "- **Weeks on Chart**: int; the amount of weeks the song has been on the chart in all time prior to and including the week of WeekID.\n",
    "- **lyricLink**: string; the URL at which the song's lyrics were found.\n",
    "- **lyrics**: string; a lower case string of all the words in a song with some special characters removed.\n",
    "- **lyricBool**: boolean; True if the song has lyrics associated, False if lyrics were not able to be found for the song.\n",
    "\n",
    "**totalCount.json**\n",
    "This file contains a sorted list of words and how many times that word was found within lyrics of all the songs. It contains \"duplicates\", meaning if a song says the same word multiple times, it was counted that many times.\n",
    "\n",
    "**totalCountNoDupes.json**\n",
    "This file contains a sorted list of words and how many times that word was uniquely found within lyrics of all the songs. It contains no \"duplicates,\" meaning a song that repeats a word multiple times only adds 1 to the total count of that word."
   ]
  },
  {
   "cell_type": "markdown",
   "id": "8b3db1f3-be54-4c7f-8597-72e883e69551",
   "metadata": {},
   "source": [
    "#### Motivation & Funding\n",
    "\n",
    "The Billboard Hot 100 Chart is published weekly by Billboard Magazine, which is a division of Media Rights Capital Media & Info. While they do have financial interests in the publication of this magazine, the chart is still viewed as an \"Industry Standard,\" and it is calculated based off of data collected from a wide variety of sources. It has stood the test of time as being an accurate depiction of the top musical landscape, and it is in Billboard's best interests to maintain the integrity of this chart."
   ]
  },
  {
   "cell_type": "markdown",
   "id": "58a4148f-a6cc-4a28-98d8-216c83dd6c37",
   "metadata": {},
   "source": [
    "#### Collection Process\n",
    "All data used so far has not been collected from indivduals. They are all based on calculations with a variety of quantitative inputs. The Billboard Hot 100 is determined by an equation involving music sales, views, listens, and other popularity measurement sources. The lyrics were scraped from a well known website called <a href=\"http://www.songlyrics.com/\">songlyrics.com</a>. I did some cleaning of the lyrics on my own. The scraping and lyrics are described more in depth in the Data Appendix."
   ]
  },
  {
   "cell_type": "markdown",
   "id": "04a689ae-09de-45cf-8036-4b7bb89507b6",
   "metadata": {},
   "source": [
    "#### Privacy Statement\n",
    "No personal data has been collected from an individual at any point in this process. Human contributions to this data have only been data enterers working for either the Billboard or songlyrics.com. No data is at risk of being stolen as all of it is already in the public domain."
   ]
  },
  {
   "cell_type": "markdown",
   "id": "6d502f7c-b2ce-46bd-a4fd-262cb75a6107",
   "metadata": {},
   "source": [
    "#### Link to Source Data\n",
    "\n",
    "My Billboard CSV file and JSON files can be viewed and downloaded <a href=\"https://drive.google.com/drive/folders/18-B4ezkbxSrT1dcHwlP4DtKW29b6l3pa?usp=sharing\">here (Google Drive)</a> or <a href=\"https://cornell.box.com/s/xyk9w2v20nyfgpyjb9gevj7zzv2fpc4j\">here (Cornell Box).</a>\n"
   ]
  },
  {
   "cell_type": "markdown",
   "id": "b82a7ed9-71f1-49f7-825c-77fe290fd1ea",
   "metadata": {},
   "source": [
    "### Preregistration Statement\n",
    "\n",
    "The two analyses I promised to perform during phase 3 of this project are as follows:\n",
    "- A detailed count of the most common words to appear in songs on the Billboard Hot 100.\n",
    "- An evaluation of the significance of political language being used in popular songs during U.S. presidential election years."
   ]
  },
  {
   "cell_type": "markdown",
   "id": "e9348ce2-c084-4183-9dbf-7de4affa3cec",
   "metadata": {},
   "source": [
    "## Data Analysis"
   ]
  },
  {
   "cell_type": "code",
   "execution_count": 4,
   "id": "65beaf92-d01d-4f29-b374-1f1a2f33dd8c",
   "metadata": {},
   "outputs": [
    {
     "data": {
      "text/html": [
       "<div>\n",
       "<style scoped>\n",
       "    .dataframe tbody tr th:only-of-type {\n",
       "        vertical-align: middle;\n",
       "    }\n",
       "\n",
       "    .dataframe tbody tr th {\n",
       "        vertical-align: top;\n",
       "    }\n",
       "\n",
       "    .dataframe thead th {\n",
       "        text-align: right;\n",
       "    }\n",
       "</style>\n",
       "<table border=\"1\" class=\"dataframe\">\n",
       "  <thead>\n",
       "    <tr style=\"text-align: right;\">\n",
       "      <th></th>\n",
       "      <th>Unnamed: 0</th>\n",
       "      <th>Week Position</th>\n",
       "      <th>Peak Position</th>\n",
       "      <th>Weeks on Chart</th>\n",
       "    </tr>\n",
       "  </thead>\n",
       "  <tbody>\n",
       "    <tr>\n",
       "      <th>count</th>\n",
       "      <td>20622.000000</td>\n",
       "      <td>20622.000000</td>\n",
       "      <td>20622.000000</td>\n",
       "      <td>20622.000000</td>\n",
       "    </tr>\n",
       "    <tr>\n",
       "      <th>mean</th>\n",
       "      <td>190865.573708</td>\n",
       "      <td>75.921249</td>\n",
       "      <td>43.150131</td>\n",
       "      <td>12.154301</td>\n",
       "    </tr>\n",
       "    <tr>\n",
       "      <th>std</th>\n",
       "      <td>97155.530376</td>\n",
       "      <td>22.318413</td>\n",
       "      <td>30.345492</td>\n",
       "      <td>8.206884</td>\n",
       "    </tr>\n",
       "    <tr>\n",
       "      <th>min</th>\n",
       "      <td>7.000000</td>\n",
       "      <td>3.000000</td>\n",
       "      <td>1.000000</td>\n",
       "      <td>1.000000</td>\n",
       "    </tr>\n",
       "    <tr>\n",
       "      <th>25%</th>\n",
       "      <td>103777.000000</td>\n",
       "      <td>56.000000</td>\n",
       "      <td>15.000000</td>\n",
       "      <td>6.000000</td>\n",
       "    </tr>\n",
       "    <tr>\n",
       "      <th>50%</th>\n",
       "      <td>210911.000000</td>\n",
       "      <td>85.000000</td>\n",
       "      <td>40.000000</td>\n",
       "      <td>11.000000</td>\n",
       "    </tr>\n",
       "    <tr>\n",
       "      <th>75%</th>\n",
       "      <td>272583.750000</td>\n",
       "      <td>96.000000</td>\n",
       "      <td>69.000000</td>\n",
       "      <td>17.000000</td>\n",
       "    </tr>\n",
       "    <tr>\n",
       "      <th>max</th>\n",
       "      <td>327845.000000</td>\n",
       "      <td>100.000000</td>\n",
       "      <td>100.000000</td>\n",
       "      <td>87.000000</td>\n",
       "    </tr>\n",
       "  </tbody>\n",
       "</table>\n",
       "</div>"
      ],
      "text/plain": [
       "          Unnamed: 0  Week Position  Peak Position  Weeks on Chart\n",
       "count   20622.000000   20622.000000   20622.000000    20622.000000\n",
       "mean   190865.573708      75.921249      43.150131       12.154301\n",
       "std     97155.530376      22.318413      30.345492        8.206884\n",
       "min         7.000000       3.000000       1.000000        1.000000\n",
       "25%    103777.000000      56.000000      15.000000        6.000000\n",
       "50%    210911.000000      85.000000      40.000000       11.000000\n",
       "75%    272583.750000      96.000000      69.000000       17.000000\n",
       "max    327845.000000     100.000000     100.000000       87.000000"
      ]
     },
     "execution_count": 4,
     "metadata": {},
     "output_type": "execute_result"
    }
   ],
   "source": [
    "## Convert the WeekID Column to Datetime\n",
    "songs.WeekID = pd.to_datetime(songs.WeekID, errors='ignore', infer_datetime_format=True) \n",
    "\n",
    "## A quick description of the 'songs' DataFrame shows that things are in order\n",
    "songs.describe()"
   ]
  },
  {
   "cell_type": "markdown",
   "id": "9df84cf1-1b84-4da5-8ce7-224ef8e7f19b",
   "metadata": {},
   "source": [
    "### Analysis #1 \n",
    "\n",
    "My first (very basic) question is what are the most common lyrics in the most popular songs of our past?\n",
    "\n",
    "This doesn't require much statistical analysis, but some Pandas maneuvering is necessary. After collecting frequency counts of all the words, I was unsurprised to discover that many of the top words were common articles, adverbs, and pronouns. I'm interested in learning the most common words of substance! So, I will remove such \"boring words\" and show the results below."
   ]
  },
  {
   "cell_type": "code",
   "execution_count": 5,
   "id": "bf260718-1300-4a3a-8017-57c9456541aa",
   "metadata": {},
   "outputs": [
    {
     "name": "stdout",
     "output_type": "stream",
     "text": [
      "The 20 most common non-boring words are: \n",
      "love  :  54589\n",
      "know  :  36682\n",
      "baby  :  31111\n",
      "one  :  19413\n",
      "time  :  18354\n",
      "come  :  18094\n",
      "never  :  17596\n",
      "let  :  16262\n",
      "make  :  16148\n",
      "say  :  16132\n",
      "see  :  16130\n",
      "girl  :  14831\n",
      "back  :  13697\n",
      "right  :  13274\n",
      "need  :  12455\n",
      "feel  :  12041\n",
      "heart  :  11888\n",
      "night  :  11863\n",
      "tell  :  11719\n",
      "little  :  10957\n"
     ]
    }
   ],
   "source": [
    "## This list of boring words, inspired by https://www.thesaurus.com/e/writing/common-words/ \n",
    "boringWords = ['', 'the', 'a', 'an', 'when', 'now', 'how', 'also', 'not', 'as', 'up', 'here', 'there', 'so', \n",
    "               'very', 'i', 'you', 'your', 'he', 'she', 'them', 'they', 'their', 'her', 'him', 'me', 'my', 'we', 'it', 'its', \n",
    "               'our', 'these', 'this', 'that', 'those', 'who', 'what', 'which', 'all', 'just', 'even', 'many',\n",
    "              'some', 'like', 'other', 'more', 'any', 'down', 'and', 'or', 'because', 'but', 'than', 'for', 'nor', 'at',\n",
    "              'of', 'in', 'to', 'out', 'with', 'on', 'by', 'into', \"i'm\", \"i'll\", 'be', \"don't\", \"can't\", 'was', 'will', 'oh', \n",
    "               'is', 'are', 'do', \"it's\", 'yeah', 'can', 'get', 'if', \"you're\", 'have', 'yes', 'no', 'gonna', 'go', 'got', \n",
    "              'from', 'take', 'wanna', 'way', 'want', \"ain't\"]\n",
    "\n",
    "## This data in dictionary form is a little easier to deal with\n",
    "removedWords = wordCt.to_dict()\n",
    "for word in boringWords:\n",
    "    del removedWords[word]\n",
    "\n",
    "print(\"The 20 most common non-boring words are: \")\n",
    "for i in list(removedWords)[:20]:\n",
    "    print(i, \" : \", removedWords[i])"
   ]
  },
  {
   "cell_type": "markdown",
   "id": "638f1309-71df-4414-bc17-32b0c4191ef3",
   "metadata": {},
   "source": [
    "This first analysis is a pretty simple one, but it is quite important. This part of the project probably took the longest since the web scraping took a lot of trial and error as well as computing time. I would say the results here are not surprising, yet they are still interesting. Many of the top words words seem related to love, like \"love\", \"baby\", \"girl\", \"feel\", and \"heart\". This might suggest that love songs are more likely to earn a spot on to the Billboard Hot 100, or it could suggest that love songs are written very frequently. Unfortunately, there is no straightforward way to classify whether or not a song is about love. I also only have data on the most popular songs, so a full analysis on the the likelihood of romantic songs reaching the Hot 100 is not possible. However, another simple analysis may shed some light on this idea."
   ]
  },
  {
   "cell_type": "markdown",
   "id": "cb86c186-322d-4050-a6b2-4dbf4e2ad5c1",
   "metadata": {},
   "source": [
    "### Analysis #2 \n",
    "\n",
    "This is an analysis to identify songs that use language related to love. How has the frequency of love songs on the Billboard Hot 100 changed over time?"
   ]
  },
  {
   "cell_type": "code",
   "execution_count": 6,
   "id": "758ea64d-a72c-4a7e-81f7-a6b766455ed0",
   "metadata": {},
   "outputs": [
    {
     "name": "stdout",
     "output_type": "stream",
     "text": [
      "Estimated love songs per year on chart: \n",
      "{1958: 133, 1959: 270, 1960: 320, 1961: 353, 1962: 361, 1963: 334, 1964: 376, 1965: 388, 1966: 409, 1967: 380, 1968: 360, 1969: 375, 1970: 282, 1971: 300, 1972: 309, 1973: 274, 1974: 298, 1975: 294, 1976: 276, 1977: 265, 1978: 282, 1979: 303, 1980: 281, 1981: 271, 1982: 284, 1983: 282, 1984: 275, 1985: 268, 1986: 270, 1987: 272, 1988: 274, 1989: 284, 1990: 272, 1991: 247, 1992: 228, 1993: 209, 1994: 206, 1995: 208, 1996: 181, 1997: 176, 1998: 213, 1999: 227, 2000: 224, 2001: 208, 2002: 186, 2003: 195, 2004: 187, 2005: 206, 2006: 244, 2007: 238, 2008: 239, 2009: 270, 2010: 296, 2011: 281, 2012: 211, 2013: 221, 2014: 236, 2015: 229, 2016: 256, 2017: 217, 2018: 230, 2019: 55, 2020: 20, 2021: 28}\n",
      "\n",
      "Total frequency of songs with love language:  0.793\n"
     ]
    }
   ],
   "source": [
    "## Words that very likely relate to love when used in lyrics\n",
    "loveWords = ['love', 'baby', 'heart', 'crush', ' marr', 'romanc', 'romant', 'kiss', 'together', 'hand', 'honey', 'sex']\n",
    "\n",
    "loveYrs = {}\n",
    "loveYrsFreq = {}\n",
    "totalLove = 0\n",
    "\n",
    "# Initialize two dicts\n",
    "for i in range(1958, 2022):\n",
    "    loveYrs[i] = 0\n",
    "    loveYrsFreq[i] = 0\n",
    "\n",
    "# Find quantity of love songs\n",
    "for index, row in songs.iterrows():\n",
    "    tempYr = songs.loc[index, 'WeekID'].year\n",
    "    tempLyrics = songs.loc[index, 'lyrics']\n",
    "    \n",
    "    loveYrsFreq[tempYr] = loveYrsFreq[tempYr] + 1\n",
    "    \n",
    "    found = False\n",
    "    for word in loveWords:\n",
    "        if not found:\n",
    "            if word in tempLyrics:\n",
    "                found = True\n",
    "    if found:\n",
    "        loveYrs[tempYr] = loveYrs[tempYr] + 1\n",
    "        totalLove = totalLove + 1\n",
    "\n",
    "# Calculate frequency of love songs in each year\n",
    "for i in range(1958, 2022):\n",
    "    loveYrsFreq[i] =  loveYrs[i] / loveYrsFreq[i]\n",
    "\n",
    "# Print Results\n",
    "print(\"Estimated love songs per year on chart: \")\n",
    "print(loveYrs)\n",
    "print()\n",
    "print(\"Total frequency of songs with love language: \", round(totalLove / songs.shape[0], 3))\n"
   ]
  },
  {
   "cell_type": "code",
   "execution_count": 7,
   "id": "9cfc9a23-75c3-4e30-adc6-c7d9214aa2c4",
   "metadata": {},
   "outputs": [
    {
     "data": {
      "image/png": "[encoded data removed]",
      "text/plain": [
       "<Figure size 432x288 with 1 Axes>"
      ]
     },
     "metadata": {
      "needs_background": "light"
     },
     "output_type": "display_data"
    }
   ],
   "source": [
    "sns.scatterplot(x=loveYrsFreq.keys(), y=loveYrsFreq.values(), s=50).set(title=\"Frequency of Love Songs Yearly\")\n",
    "plt.xlabel(\"Year\")\n",
    "plt.ylabel(\"Frequency of Love Song\")\n",
    "plt.show()"
   ]
  },
  {
   "cell_type": "markdown",
   "id": "0b2b7056-6e4a-419e-9dd6-f8d7d88dde6d",
   "metadata": {},
   "source": [
    "It appears that around 80% of songs to ever get a spot on the Billboard Hot 100 use language related to love. Around the year 2020, there appears to be some sort of major drop off, and the reason for this is likely due to the lack of lyrics that could be scraped for more recent songs. The sample sizes are much smaller for recent years.\n",
    "\n",
    "I will discuss the statistical significance of graph more in the evaluation of significance section.\n"
   ]
  },
  {
   "cell_type": "markdown",
   "id": "388cb798-f79f-4cc1-97ac-62f0362e44ec",
   "metadata": {},
   "source": [
    "### Analysis #3\n",
    "\n",
    "This analysis uses similar methods as the last analysis to consider the use of political language in relation to U.S. presidential election years. Since the Billboard Hot 100 reflects the most popular songs in the United States, the music culture of the U.S. may fluctuate in relation to this major event that happens every 4 years."
   ]
  },
  {
   "cell_type": "code",
   "execution_count": 8,
   "id": "b91ca8b4-b8b9-43e0-9731-f084a71c45b5",
   "metadata": {},
   "outputs": [],
   "source": [
    "electionYrs = [1960, 1964, 1968, 1972, 1976, 1980, 1984, 1988, 1992, 1996, 2000, 2004, 2008, 2012, 2016, 2020]\n",
    "# Word bases related to American politics, inspired by https://myvocabulary.com/word-list/politics-vocabulary/\n",
    "americaWords = ['america', 'patriot', 'republic', 'democ', 'president', 'congress', 'vote', 'govern', 'politi', \n",
    "                'campaign', 'federa', 'ballot', 'candidate', ' election', ' liber', 'conserv', 'majority', 'minorit', \n",
    "                'corrupt', ' law ', 'bureau', 'equal', 'nominat', ' media ', 'amend', 'veto ', ' rights', 'freed', 'societ',\n",
    "               'civi', ' nation']"
   ]
  },
  {
   "cell_type": "code",
   "execution_count": 9,
   "id": "05c23af6-7def-4951-9d26-8c619d6dccb4",
   "metadata": {},
   "outputs": [
    {
     "name": "stdout",
     "output_type": "stream",
     "text": [
      "Estimated songs with political language per year:\n",
      "{1958: 4, 1959: 5, 1960: 9, 1961: 11, 1962: 11, 1963: 5, 1964: 11, 1965: 16, 1966: 18, 1967: 15, 1968: 16, 1969: 26, 1970: 27, 1971: 30, 1972: 24, 1973: 14, 1974: 23, 1975: 17, 1976: 19, 1977: 17, 1978: 12, 1979: 13, 1980: 17, 1981: 18, 1982: 26, 1983: 20, 1984: 15, 1985: 19, 1986: 24, 1987: 16, 1988: 13, 1989: 18, 1990: 14, 1991: 6, 1992: 19, 1993: 16, 1994: 15, 1995: 15, 1996: 22, 1997: 15, 1998: 15, 1999: 16, 2000: 22, 2001: 14, 2002: 14, 2003: 18, 2004: 20, 2005: 16, 2006: 25, 2007: 15, 2008: 20, 2009: 18, 2010: 23, 2011: 23, 2012: 14, 2013: 18, 2014: 15, 2015: 19, 2016: 19, 2017: 25, 2018: 37, 2019: 1, 2020: 2, 2021: 1}\n"
     ]
    }
   ],
   "source": [
    "politicsCounts = {}\n",
    "politicsFreq = {}\n",
    "\n",
    "# Initialize the politicsCounts dict\n",
    "for i in range(1958, 2022):\n",
    "    politicsCounts[i] = 0\n",
    "    politicsFreq[i] = 0\n",
    "\n",
    "# Count the amount of songs identified as being related to politics  \n",
    "for index, row in songs.iterrows():\n",
    "    tempYr = songs.loc[index, 'WeekID'].year\n",
    "    tempLyrics = songs.loc[index, 'lyrics']\n",
    "    \n",
    "    politicsFreq[tempYr] = politicsFreq[tempYr] + 1\n",
    "    \n",
    "    found = False\n",
    "    for word in americaWords:\n",
    "        if not found:\n",
    "            if word in tempLyrics:\n",
    "                found = True\n",
    "    if found:\n",
    "        politicsCounts[tempYr] = politicsCounts[tempYr] + 1\n",
    "\n",
    "# Calculate the frequencies\n",
    "for i in range(1958, 2022):\n",
    "    politicsFreq[i] = politicsCounts[i] / politicsFreq[i]\n",
    "\n",
    "print(\"Estimated songs with political language per year:\")\n",
    "print(politicsCounts)"
   ]
  },
  {
   "cell_type": "code",
   "execution_count": 10,
   "id": "e6120be5-8e40-46a5-940e-a246a5ab1f48",
   "metadata": {
    "tags": []
   },
   "outputs": [
    {
     "data": {
      "image/png": "[encoded data removed]",
      "text/plain": [
       "<Figure size 720x360 with 1 Axes>"
      ]
     },
     "metadata": {},
     "output_type": "display_data"
    }
   ],
   "source": [
    "sns.set(rc={\"figure.figsize\": (10,5)})\n",
    "politicsGraph = sns.scatterplot(x=politicsFreq.keys(), y=politicsFreq.values(), s=50).set(title=\"Frequency of Political Songs Yearly\")\n",
    "for yr in electionYrs:\n",
    "    plt.axvline(yr)\n",
    "plt.xlabel(\"Year\")\n",
    "plt.ylabel(\"Frequency of Political Songs\")\n",
    "plt.show()"
   ]
  },
  {
   "cell_type": "markdown",
   "id": "48199c59-f114-4dd3-945f-e07d72a179ce",
   "metadata": {},
   "source": [
    "In this graph, the dots represent the frequency of political songs in each year. The vertical lines show presidential election years. At first glance, there appears to be a slight upwards trend in the frequency of use of political language in popular songs. The same drop off in the past three years shows up, and this is again due to a smaller sample size (lyrics not being available on scraped website). There also does not appear to be a significance with election years. I will discuss this graph further in the next section."
   ]
  },
  {
   "cell_type": "markdown",
   "id": "9d16edf6-92ff-485f-bb01-0b8c1160987e",
   "metadata": {},
   "source": [
    "### Analysis #4\n",
    "This is less of an analysis and more of a model for predicting release year, and its strength is somewhat of an analysis. For this part, I was curious if some new skills with Logistic Regressions and text analysis could be applied to the Billboard Chart and the lyrics of songs. The goal was to create a model that could guess if a song came before or after year X based on lyrics alone. First, I tried splitting the data set down every year and seeing the accuracies of the model for each year."
   ]
  },
  {
   "cell_type": "code",
   "execution_count": 11,
   "id": "a0d59df6-1152-4a6b-a522-e6e5acb347eb",
   "metadata": {},
   "outputs": [],
   "source": [
    "# A helper function to make new categorical column\n",
    "def split_by_yr(col, year):\n",
    "    return pd.cut(col, bins=[1950, year, 2022], include_lowest=True, labels=[0, 1])"
   ]
  },
  {
   "cell_type": "code",
   "execution_count": 18,
   "id": "fecea908-f530-4ec1-8027-1e761d97a38f",
   "metadata": {
    "tags": []
   },
   "outputs": [],
   "source": [
    "# Make new year column that just has the year\n",
    "songs['yr'] = [date.year for date in songs.WeekID]\n",
    "\n",
    "# Making a copy of 'songs' dataframe\n",
    "songs_vectors = songs\n",
    "\n",
    "# Track the best year and accuracy\n",
    "best_yr = -1\n",
    "best_acc = 0\n",
    "\n",
    "# A dict to hold the found accuracies\n",
    "accuracies = {}\n",
    "\n",
    "# Iterate through the years and calculate accuracy\n",
    "for i in range(1958, 2021):\n",
    "    split_yr = i\n",
    "    \n",
    "    # Set 'splits' column based of categorization of before or after split_yr\n",
    "    songs_vectors['splits'] = split_by_yr(songs_vectors.yr, split_yr)\n",
    "\n",
    "    x_train, x_test, y_train, y_test = train_test_split(songs_vectors.lyrics, songs_vectors.splits, test_size=0.3, random_state=58)\n",
    "\n",
    "    tfidf_train = TfidfVectorizer()\n",
    "    train_vectors = tfidf_train.fit_transform(x_train)\n",
    "    test_vectors = tfidf_train.transform(x_test)\n",
    "\n",
    "    train_logistic = LogisticRegression(max_iter=400).fit(train_vectors, y_train.values)\n",
    "    yrPred = train_logistic.predict(test_vectors)\n",
    "    \n",
    "    acc = classification_report(y_test.values, yrPred, output_dict=True, zero_division=1)['accuracy']\n",
    "    accuracies[split_yr] = acc\n",
    "    \n",
    "    if (acc > best_acc):\n",
    "        best_acc = acc\n",
    "        best_yr = split_yr\n"
   ]
  },
  {
   "cell_type": "code",
   "execution_count": 19,
   "id": "9cd78273-672c-463d-89d1-8333c2fa25f4",
   "metadata": {},
   "outputs": [
    {
     "data": {
      "image/png": "[encoded data removed]",
      "text/plain": [
       "<Figure size 360x360 with 1 Axes>"
      ]
     },
     "metadata": {},
     "output_type": "display_data"
    }
   ],
   "source": [
    "accs = pd.DataFrame.from_dict(accuracies, orient='index')\n",
    "\n",
    "accs.columns = ['accs']\n",
    "plt.figure(figsize=(5, 5))\n",
    "accFig = sns.scatterplot(x=accs.index, y=accs.accs)\n",
    "plt.ylabel(\"model accuracy\")\n",
    "plt.title(\"Before or After Prediction Accuracies\")\n",
    "plt.show()"
   ]
  },
  {
   "cell_type": "code",
   "execution_count": 20,
   "id": "23b662e3-620b-4239-b556-3caad779efda",
   "metadata": {},
   "outputs": [
    {
     "name": "stdout",
     "output_type": "stream",
     "text": [
      "Most accurate year for splitting (with at least 20 years on each side):  2001\n"
     ]
    }
   ],
   "source": [
    "# 1978 to 2001\n",
    "# Find best year with at least 20 years on both sides\n",
    "best_year = 1978\n",
    "\n",
    "for i in range(1978, 2002):\n",
    "    if accuracies[i] > accuracies[best_year]:\n",
    "        best_year = i\n",
    "        \n",
    "print(\"Most accurate year for splitting (with at least 20 years on each side): \", best_year)"
   ]
  },
  {
   "cell_type": "code",
   "execution_count": 21,
   "id": "4807ff5f-f102-41b6-8778-6cc2f9161da8",
   "metadata": {},
   "outputs": [
    {
     "name": "stdout",
     "output_type": "stream",
     "text": [
      "              precision    recall  f1-score   support\n",
      "\n",
      "           0       0.82      0.97      0.89      4593\n",
      "           1       0.80      0.40      0.53      1594\n",
      "\n",
      "    accuracy                           0.82      6187\n",
      "   macro avg       0.81      0.68      0.71      6187\n",
      "weighted avg       0.82      0.82      0.80      6187\n",
      "\n"
     ]
    }
   ],
   "source": [
    "# Print Classification Report for splitting down the year 2001\n",
    "songs_vectors['splits'] = split_by_yr(songs_vectors.yr, best_year)\n",
    "\n",
    "x_train, x_test, y_train, y_test = train_test_split(songs_vectors.lyrics, songs_vectors.splits, test_size=0.3, random_state=42)\n",
    "\n",
    "tfidf_train = TfidfVectorizer()\n",
    "train_vectors = tfidf_train.fit_transform(x_train)\n",
    "test_vectors = tfidf_train.transform(x_test)\n",
    "\n",
    "train_logistic = LogisticRegression().fit(train_vectors, y_train.values)\n",
    "yrPred = train_logistic.predict(test_vectors)\n",
    "print(classification_report(y_test.values, yrPred))"
   ]
  },
  {
   "cell_type": "markdown",
   "id": "0dc93735-9914-4f73-862b-12d9e382d4de",
   "metadata": {},
   "source": [
    "As seen from the classification report above, the model can predict with 82% accuracy whether a song was on the Billboard before/during the year 2001 or afterwards based on lyrics alone. Expectedly, it does better on predicting the before section as this is a larger portion of time. Based on the graph of accuracies over the years, it seems the model is least accurate around the median, so I will now run a split down the median year and view the classification report."
   ]
  },
  {
   "cell_type": "code",
   "execution_count": 22,
   "id": "fdc5938b-3dc7-495e-ba0b-f7b8f4b86935",
   "metadata": {},
   "outputs": [
    {
     "name": "stdout",
     "output_type": "stream",
     "text": [
      "              precision    recall  f1-score   support\n",
      "\n",
      "           0       0.74      0.78      0.76      3173\n",
      "           1       0.76      0.72      0.74      3014\n",
      "\n",
      "    accuracy                           0.75      6187\n",
      "   macro avg       0.75      0.75      0.75      6187\n",
      "weighted avg       0.75      0.75      0.75      6187\n",
      "\n"
     ]
    }
   ],
   "source": [
    "songs_vectors['splits'] = split_by_yr(songs_vectors.yr, songs_vectors.WeekID.median().year)\n",
    "x_train, x_test, y_train, y_test = train_test_split(songs_vectors.lyrics, songs_vectors.splits, test_size=0.3, random_state=42)\n",
    "\n",
    "tfidf_train = TfidfVectorizer()\n",
    "train_vectors = tfidf_train.fit_transform(x_train)\n",
    "test_vectors = tfidf_train.transform(x_test)\n",
    "\n",
    "train_logistic = LogisticRegression().fit(train_vectors, y_train.values)\n",
    "yrPred = train_logistic.predict(test_vectors)\n",
    "print(classification_report(y_test.values, yrPred))"
   ]
  },
  {
   "cell_type": "markdown",
   "id": "49c2cdfd-51e4-400f-8ae5-a26393d8fba5",
   "metadata": {},
   "source": [
    "## Evaluation of Significance\n",
    "\n",
    "It doesn't make sense to evaluate significance of Analysis #1 as it was simply word counts. Analysis #2 and #3 though could have linear regressions fit to them. Finally, I will discuss Analysis #4 in a little more depth.\n",
    "\n",
    "### Analysis #2 Significance"
   ]
  },
  {
   "cell_type": "code",
   "execution_count": 23,
   "id": "895c40d1-f362-4f39-9cd8-7bb7dd093acd",
   "metadata": {
    "tags": []
   },
   "outputs": [],
   "source": [
    "## Removing recent year outliers from data (2019-2021), 2018 was an outlier for a different reason\n",
    "loveCopy = loveYrsFreq\n",
    "del loveCopy[2019]\n",
    "del loveCopy[2020]\n",
    "del loveCopy[2021]\n"
   ]
  },
  {
   "cell_type": "code",
   "execution_count": 24,
   "id": "6413441b-72f7-48f6-83b8-0815b084d2ed",
   "metadata": {},
   "outputs": [
    {
     "name": "stdout",
     "output_type": "stream",
     "text": [
      "Coefficient: [0.00020804]\n"
     ]
    }
   ],
   "source": [
    "loveDf = pd.DataFrame.from_dict(loveCopy, 'index', columns=['freq'])\n",
    "yrList = []\n",
    "\n",
    "for i in range(1958, 2019):\n",
    "    yrList.append(i)\n",
    "loveDf['year'] = yrList\n",
    "\n",
    "loveTrend = LinearRegression()\n",
    "loveTrend.fit(loveDf[['year']], loveDf['freq'])\n",
    "print('Coefficient:', loveTrend.coef_)\n"
   ]
  },
  {
   "cell_type": "code",
   "execution_count": 25,
   "id": "55b88a77-5eac-4c8c-8fe1-3aca56268a34",
   "metadata": {},
   "outputs": [
    {
     "data": {
      "image/png": "[encoded data removed]",
      "text/plain": [
       "<Figure size 720x360 with 1 Axes>"
      ]
     },
     "metadata": {},
     "output_type": "display_data"
    }
   ],
   "source": [
    "sns.scatterplot(x=loveCopy.keys(), y=loveCopy.values(), s=80).set(title=\"Frequency of Love Songs Yearly\")\n",
    "plt.xlabel(\"Year\")\n",
    "plt.ylabel(\"Frequency of Love Song\")\n",
    "plt.plot(loveDf['year'], loveTrend.predict(loveDf[['year']]))\n",
    "plt.show()\n"
   ]
  },
  {
   "cell_type": "code",
   "execution_count": 26,
   "id": "698a0249-325b-40df-bac3-9d1fed89d84e",
   "metadata": {},
   "outputs": [
    {
     "data": {
      "text/html": [
       "<div>\n",
       "<style scoped>\n",
       "    .dataframe tbody tr th:only-of-type {\n",
       "        vertical-align: middle;\n",
       "    }\n",
       "\n",
       "    .dataframe tbody tr th {\n",
       "        vertical-align: top;\n",
       "    }\n",
       "\n",
       "    .dataframe thead th {\n",
       "        text-align: right;\n",
       "    }\n",
       "</style>\n",
       "<table border=\"1\" class=\"dataframe\">\n",
       "  <thead>\n",
       "    <tr style=\"text-align: right;\">\n",
       "      <th></th>\n",
       "      <th>year</th>\n",
       "      <th>freq</th>\n",
       "    </tr>\n",
       "  </thead>\n",
       "  <tbody>\n",
       "    <tr>\n",
       "      <th>year</th>\n",
       "      <td>1.000000</td>\n",
       "      <td>0.085304</td>\n",
       "    </tr>\n",
       "    <tr>\n",
       "      <th>freq</th>\n",
       "      <td>0.085304</td>\n",
       "      <td>1.000000</td>\n",
       "    </tr>\n",
       "  </tbody>\n",
       "</table>\n",
       "</div>"
      ],
      "text/plain": [
       "          year      freq\n",
       "year  1.000000  0.085304\n",
       "freq  0.085304  1.000000"
      ]
     },
     "execution_count": 26,
     "metadata": {},
     "output_type": "execute_result"
    }
   ],
   "source": [
    "loveDf[['year', 'freq']].corr()"
   ]
  },
  {
   "cell_type": "markdown",
   "id": "7758e38d-6442-4e9c-a27c-66f789325633",
   "metadata": {},
   "source": [
    "**Significance:** There appears to be a slightly positive slope, and the intercept is purposeless. The correlation of between these two variables is 0.085, which is nearly 0. There does not appear to be any significant correlation between years and frequency of love songs. The null hypothesis (there is no change in the frequency of songs using language related to love over time) is not rejected.\n"
   ]
  },
  {
   "cell_type": "markdown",
   "id": "4f75286b-122f-47a8-8591-9327f9066f9a",
   "metadata": {},
   "source": [
    "## Analysis #3 Significance\n",
    "\n",
    "This will follow a very similar process to the last one."
   ]
  },
  {
   "cell_type": "code",
   "execution_count": 27,
   "id": "a84d173b-4b38-4e32-aad7-d519381f816f",
   "metadata": {},
   "outputs": [
    {
     "name": "stdout",
     "output_type": "stream",
     "text": [
      "Coefficient: [0.00075208]\n"
     ]
    }
   ],
   "source": [
    "## Removing recent year outliers from data (2019-2021), 2018 was an outlier for a different reason\n",
    "politicsCopy = politicsFreq\n",
    "del politicsCopy[2019]\n",
    "del politicsCopy[2020]\n",
    "del politicsCopy[2021]\n",
    "\n",
    "politicsDf = pd.DataFrame.from_dict(politicsCopy, 'index', columns=['freq'])\n",
    "politicsDf['year'] = yrList\n",
    "\n",
    "poliTrend = LinearRegression()\n",
    "poliTrend.fit(politicsDf[['year']], politicsDf['freq'])\n",
    "modelSlope = poliTrend.coef_\n",
    "print('Coefficient:', modelSlope)"
   ]
  },
  {
   "cell_type": "code",
   "execution_count": 28,
   "id": "8300ee0d-5191-4fa2-84fd-3503269517a8",
   "metadata": {},
   "outputs": [
    {
     "data": {
      "image/png": "[encoded data removed]",
      "text/plain": [
       "<Figure size 720x360 with 1 Axes>"
      ]
     },
     "metadata": {},
     "output_type": "display_data"
    }
   ],
   "source": [
    "sns.set(rc={\"figure.figsize\": (10,5)})\n",
    "sns.scatterplot(x=politicsFreq.keys(), y=politicsFreq.values(), s=80).set(title=\"Frequency of Political Songs Yearly\")\n",
    "for yr in electionYrs:\n",
    "    plt.axvline(yr)\n",
    "plt.plot(politicsDf['year'], poliTrend.predict(politicsDf[['year']]))\n",
    "plt.xlabel(\"Year\")\n",
    "plt.ylabel(\"Frequency of Political Songs\")\n",
    "plt.show()"
   ]
  },
  {
   "cell_type": "code",
   "execution_count": 29,
   "id": "2e977d61-6734-4864-8543-14786d72dd16",
   "metadata": {},
   "outputs": [
    {
     "data": {
      "text/html": [
       "<div>\n",
       "<style scoped>\n",
       "    .dataframe tbody tr th:only-of-type {\n",
       "        vertical-align: middle;\n",
       "    }\n",
       "\n",
       "    .dataframe tbody tr th {\n",
       "        vertical-align: top;\n",
       "    }\n",
       "\n",
       "    .dataframe thead th {\n",
       "        text-align: right;\n",
       "    }\n",
       "</style>\n",
       "<table border=\"1\" class=\"dataframe\">\n",
       "  <thead>\n",
       "    <tr style=\"text-align: right;\">\n",
       "      <th></th>\n",
       "      <th>year</th>\n",
       "      <th>freq</th>\n",
       "    </tr>\n",
       "  </thead>\n",
       "  <tbody>\n",
       "    <tr>\n",
       "      <th>year</th>\n",
       "      <td>1.000000</td>\n",
       "      <td>0.677881</td>\n",
       "    </tr>\n",
       "    <tr>\n",
       "      <th>freq</th>\n",
       "      <td>0.677881</td>\n",
       "      <td>1.000000</td>\n",
       "    </tr>\n",
       "  </tbody>\n",
       "</table>\n",
       "</div>"
      ],
      "text/plain": [
       "          year      freq\n",
       "year  1.000000  0.677881\n",
       "freq  0.677881  1.000000"
      ]
     },
     "execution_count": 29,
     "metadata": {},
     "output_type": "execute_result"
    }
   ],
   "source": [
    "politicsDf[['year', 'freq']].corr()\n"
   ]
  },
  {
   "cell_type": "markdown",
   "id": "6cc3b95a-3944-4ebd-991b-14d40b5c3186",
   "metadata": {},
   "source": [
    "**Significance:** While the slope is also quite small for the regression between the two variables, the correlation may indicate significance. I will run a permutation test on the data to determine a p-value. \n"
   ]
  },
  {
   "cell_type": "code",
   "execution_count": 30,
   "id": "b7de4b7f-09b4-404b-a288-23d7fa096f64",
   "metadata": {
    "tags": []
   },
   "outputs": [],
   "source": [
    "def permute(data):\n",
    "    toShuffle = data.copy().values\n",
    "    np.random.shuffle(toShuffle)\n",
    "    return pd.Series(toShuffle)"
   ]
  },
  {
   "cell_type": "code",
   "execution_count": 31,
   "id": "7280e8c6-8d57-4f96-9bee-4918220c8ec2",
   "metadata": {},
   "outputs": [
    {
     "name": "stdout",
     "output_type": "stream",
     "text": [
      "Calculated p-value:  0.0\n"
     ]
    }
   ],
   "source": [
    "steeper = 0\n",
    "n = 2000\n",
    "# Initialize empty numpy array to store slopes\n",
    "slopes = np.zeros(n)\n",
    "\n",
    "for i in range(n):\n",
    "    temp = LinearRegression().fit(politicsDf[['year']], permute(politicsDf['freq']))\n",
    "    slopes[i] = temp.coef_[0]\n",
    "    if np.abs(temp.coef_[0]) > np.abs(modelSlope):\n",
    "        steeper = steeper + 1\n",
    "\n",
    "print(\"Calculated p-value: \", round(steeper / n, 3))\n"
   ]
  },
  {
   "cell_type": "markdown",
   "id": "22be878e-cce7-4002-b0bf-3d5e0e6b0c75",
   "metadata": {},
   "source": [
    "Using a permutation test, a p-value of less than 0.001 is found. This means there is a significant increase in the use of political language in music since the Billboard Hot 100 first started publishing data in 1958.\n"
   ]
  },
  {
   "cell_type": "markdown",
   "id": "e38ef131-2819-4671-8d8a-13176b750423",
   "metadata": {},
   "source": [
    "## Analysis #4 Significance\n",
    "\n",
    "The significance of the prediction model's results speak for themselves in terms of significance. The shape of the accuracies graph (a dipping 'V') makes sense, because as year split shifts, the size of the sets on each side of the year changes too. Using a split date somewhere around the middle with the year 1984 is a more interesting conclusion to me than using the year 2001. The 75% prediction accuracy of a split down 1984 is in a bit of a gray area. 75% accuracy is much better than a coin flip, but it's also not convincingly accurate to me. So while I don't think the 75% accuracy is a conicidence, I think it is not a great enough accuracy to call this model groundbreaking. I would conclude that it is intriguing and deserving of more data points (if I had more lyrics in my dataset). At the highest level though, the higher accuracies here point towards a trend of more recent lyrics having some detectable difference from those of older songs, which is a trend very worthy of further investigation."
   ]
  },
  {
   "cell_type": "markdown",
   "id": "cc98a7ea-d5ab-4bc4-bc24-4867001e18b7",
   "metadata": {
    "tags": []
   },
   "source": [
    "## Conclusions\n",
    "\n",
    "As interesting as this data is, I would not feel comfortable shouting any of these conclusions from the mountain tops. These conclusions do, however, serve as a great point of discussion. The interpretation of music is a difficult problem that many have tried to simplify. I think it is safe to say that most people who have tried to simplify music like this have based their simplification on at least some valid reasoning. As a musician myself, I realize that part of the beauty of music lies in the fact that music can (and should) be interpreted in multiple ways. \n",
    "\n",
    "I tried to simplify song meaning down to the lyrics of the song and the frequencies of certain words. My method in doing this was by thinking of some common or important words within the language sets of romance and politics. While I'm sure this simplification can catch a large amount of songs related to these themes, it also misses those that use metaphors, similes, or instrumental aspects to convey the same feelings. This method can also falsely classify songs that use the word \"love\" or \"baby\" in a non-romantic way. With this simplification in mind, please take my conclusions with a grain of salt.\n",
    "\n",
    "**Conclusion #1:** The most commonly used word of the Billboard Hot 100 (not including pronouns, conjunctions, articles, adverbs, or interjections) is `love`.\n",
    "\n",
    "**Conclusion #2:** There is no significant change in the frequency of popular songs using romance-related language since the Billboard Hot 100 first started publishing data.\n",
    "\n",
    "**Conclusion #3:** The frequency of politics-related language has a significant positive correlation between frequency and time  since the Billboard Hot 100 first started publishing data (p < 0.001). That is, the usage of politics-related language in Billboard Hot 100 songs has significantly increased since 1958.\n",
    "\n",
    "**Conclusion #4:** A model to predict whether a song was on the chart before or after 1984 can be created with a 75% prediction accuracy, however, this accuracy cannot be considered a significant conclusion in the scope of this project. More data for training this model would be preferred.\n"
   ]
  },
  {
   "cell_type": "markdown",
   "id": "ba9f5f6c-f2c7-4aae-bb47-167a19770bbd",
   "metadata": {},
   "source": [
    "## Limitations\n",
    "\n",
    "Limitations of the original dataset: the original Billboard Hot 100 dataset was very clean and complete. Perhaps the biggest limitation was its size (>325,000 rows). The size and clunkiness of the data (and my aspirations to add lyrics to it) made reduction a necessity. Another limitation of this dataset was the lack of useful columns. All the columns were metadata (title, artist, week on chart, etc.) for the songs.  There were no artistic aspects that were measured (key, tempo, instrumentation, form, chord progression, etc.), though anyone would be hard-pressed to find complete data of this type for this many songs. \n",
    "\n",
    "Limitations of the dataset following the addition of lyrics: the introduction of lyrics to the dataset probably produced the most issues. The biggest was that the web scraping function could only find the lyrics for ~70% of the songs on the chart. While I treated this like a \"random sample\" of 70% of the chart, there is the possibility that it's not a truly random sample. As seen in the 2nd and 3rd analyses, the past three years seem to have much fewer found lyrics likely due to delayed data entry on the part of songlyrics.com. While there is a portion of the 30% missing songs that were purely instrumental (i.e. no lyrics are sung), I highly doubt all of these were instrumental. While this project was focused on lyrical songs, instrumental songs on the Hot 100 were still popular and part of culture, so they should eventually be included in any overarching analysis of Hot 100 song meaning.\n"
   ]
  },
  {
   "cell_type": "markdown",
   "id": "58b319e6-f304-46e3-80ef-ce88620114c9",
   "metadata": {},
   "source": [
    "### Source Code\n",
    "A GitHub Repository with all my code can be found <a href=\"https://github.com/ellisluke/2950FinalProject\">here.</a> The folder marked submission is the most organized, and the other folders (especially the notebooks I used essentially as \"scratch\" paper) are a bit of a mess."
   ]
  },
  {
   "cell_type": "markdown",
   "id": "b581d186-13ab-47a8-a337-13746a9f2eeb",
   "metadata": {},
   "source": [
    "## Acknowledgments\n",
    "\n",
    "This project would not have been possible without the following resources graciously provided by the following parties.\n",
    "- Software Packages: \n",
    "    - <a href=\"https://www.python.org/\">Python</a>\n",
    "    - <a href=\"https://pandas.pydata.org/docs/#\">Pandas</a>\n",
    "    - <a href=\"https://numpy.org/doc/\">NumPy</a>\n",
    "    - <a href=\"https://scikit-learn.org/stable/index.html\">Scikit-Learn</a>\n",
    "    - <a href=\"https://matplotlib.org/\">MatPlotLib</a>\n",
    "    - <a href=\"https://seaborn.pydata.org/\">Seaborn</a>\n",
    "    - <a href=\"https://www.crummy.com/software/BeautifulSoup/\">Beautiful Soup 4</a>\n",
    "- Sean Miller - <a href=\"https://data.world/kcmillersean/billboard-hot-100-1958-2017\">Cleaned Billboard Dataset</a>\n",
    "- <a href=\"http://www.songlyrics.com/\">Song Lyrics.com</a>\n",
    "- Tutorial resources provided by INFO 2950: Introduction to Data Science at Cornell University, **Professor Matthew Wilkins** and the course staff\n",
    "- Billboard Magazine - <a href=\"https://www.billboard.com/charts/hot-100/\">Billboard Hot 100</a>\n",
    "- Joel Grus - Data Science from Scratch Vol. 2\n",
    "- MyVocabulary.com - <a href=\"https://myvocabulary.com/word-list/politics-vocabulary/\">Political Vocabulary Word List</a>\n",
    "- Thesaurus.com - <a href=\"https://www.thesaurus.com/e/writing/common-words/\">100 of The Most Common Words in English</a>\n",
    "- Daniela Rodriguez-Chavez - for helping me brainstorm solutions to issues regarding this project.\n",
    "- Ben Dodson - for setting me on the correct trajectory during the web scraping portion."
   ]
  }
 ],
 "metadata": {
  "kernelspec": {
   "display_name": "Python 3",
   "language": "python",
   "name": "python3"
  },
  "language_info": {
   "codemirror_mode": {
    "name": "ipython",
    "version": 3
   },
   "file_extension": ".py",
   "mimetype": "text/x-python",
   "name": "python",
   "nbconvert_exporter": "python",
   "pygments_lexer": "ipython3",
   "version": "3.8.8"
  }
 },
 "nbformat": 4,
 "nbformat_minor": 5
}
